{
 "cells": [
  {
   "cell_type": "code",
   "execution_count": null,
   "id": "d970ff24",
   "metadata": {},
   "outputs": [],
   "source": []
  },
  {
   "cell_type": "markdown",
   "id": "ab0b8d36",
   "metadata": {},
   "source": [
    "Downloading the required packages"
   ]
  },
  {
   "cell_type": "code",
   "execution_count": 1,
   "id": "1a76abda",
   "metadata": {},
   "outputs": [],
   "source": [
    "from yahooquery import Ticker\n",
    "import yfinance as yf\n",
    "import pandas as pd\n",
    "import yahoo_fin as yt\n",
    "from yahoo_fin.stock_info import get_analysts_info\n",
    "from yahoo_fin.stock_info import get_balance_sheet\n",
    "from yahoo_fin.stock_info import get_cash_flow\n",
    "from yahoo_fin.stock_info import get_income_statement\n",
    "from yahoo_fin.stock_info import get_financials\n",
    "from yahoo_fin.stock_info import get_quote_table\n"
   ]
  },
  {
   "cell_type": "markdown",
   "id": "edf47215",
   "metadata": {},
   "source": [
    "Input the stock ticker"
   ]
  },
  {
   "cell_type": "code",
   "execution_count": 2,
   "id": "68e2b8f0",
   "metadata": {},
   "outputs": [
    {
     "name": "stdout",
     "output_type": "stream",
     "text": [
      "aapl\n"
     ]
    }
   ],
   "source": [
    "ticker = input()"
   ]
  },
  {
   "cell_type": "code",
   "execution_count": 3,
   "id": "3fdd8399",
   "metadata": {},
   "outputs": [],
   "source": [
    "\n",
    "ticker=ticker.upper()\n",
    "tick=Ticker(ticker)\n",
    "stock=yf.Ticker(ticker)\n",
    "df=stock.info\n",
    "abc=pd.DataFrame([df])\n",
    "quote_table=pd.DataFrame.from_dict([get_quote_table(ticker)])\n",
    "balance_s=tick.balance_sheet()\n",
    "income_s=tick.income_statement()\n",
    "cash_s=tick.cash_flow()\n",
    "balance_statement = get_balance_sheet(ticker)\n",
    "income_statement = get_income_statement(ticker)\n",
    "cash_flowstatement=get_cash_flow(ticker)\n",
    "income_statement=income_statement.transpose()\n",
    "balance_statement=balance_statement.transpose()\n",
    "cash_flowstatement=cash_flowstatement.transpose()"
   ]
  },
  {
   "cell_type": "markdown",
   "id": "68a453b2",
   "metadata": {},
   "source": [
    "Financial Ratios Calculation"
   ]
  },
  {
   "cell_type": "code",
   "execution_count": 4,
   "id": "aa53e1cb",
   "metadata": {},
   "outputs": [],
   "source": [
    "#liquidityratios\n",
    "current_ratio=abc['currentRatio']\n",
    "quick_ratio=((balance_s['CurrentAssets']-balance_s['Inventory'])/balance_s['CurrentLiabilities'])[-1]\n",
    "cash_ratio=(balance_s['CashAndCashEquivalents'])/balance_s['CurrentLiabilities']\n",
    "dayssales_outstanding=(balance_s['AccountsReceivable']/income_s['TotalRevenue'])*365\n",
    "#profitabilityratios\n",
    "returnonequity=abc['returnOnEquity']\n",
    "returnonassets=abc['returnOnAssets']\n",
    "eps=quote_table['EPS (TTM)']\n",
    "forwardeps=abc['forwardEps']\n",
    "gross_profit_margin=abc['grossMargins']\n",
    "net_profit=abc['grossProfits']/(income_s['TotalRevenue'][-1])\n",
    "#solvencyratios\n",
    "debt_equity=balance_s['TotalDebt']/balance_s['CommonStockEquity']\n",
    "debt_asset=balance_s['TotalDebt']/balance_s['TotalAssets']\n",
    "equityratio=balance_s['StockholdersEquity']/abc['totalDebt'][0]\n",
    "financial_leverage=balance_s['TotalAssets']/balance_s['StockholdersEquity']\n",
    "\n",
    "\n"
   ]
  },
  {
   "cell_type": "markdown",
   "id": "2d975629",
   "metadata": {},
   "source": [
    "DCF Calculation"
   ]
  },
  {
   "cell_type": "code",
   "execution_count": 5,
   "id": "74dbbb5d",
   "metadata": {},
   "outputs": [],
   "source": [
    "#DCF calculation\n",
    "outstandingshare=abc['sharesOutstanding']\n",
    "outstandingshare\n",
    "req_rate=0.074\n",
    "g_rate=0.02\n",
    "cashflowgrowthrate=0.03\n",
    "years=[1,2,3,4]\n",
    "freecashflow=cash_s['FreeCashFlow']\n",
    "freecashflow=freecashflow[:-1]\n",
    "taxrate=income_s['TaxRateForCalcs'][-1]\n",
    "riskfreerate=0.0397\n",
    "rm=0.1\n",
    "req_rate=riskfreerate+abc['beta']*(rm-riskfreerate)\n",
    "pretax=income_s['InterestExpense'][-1]/balance_s['TotalDebt'][-1]\n",
    "req_tax=pretax*(1-taxrate)\n",
    "equity=balance_s['CommonStockEquity']\n",
    "equity=equity[-1]\n",
    "debt=balance_s['TotalDebt'][-1]\n",
    "v=equity+debt\n",
    "wacc=((equity/debt)*req_rate)+((debt/v)*req_tax)*(1-taxrate)\n",
    "growth=cash_s['FreeCashFlow']\n",
    "growth=growth.pct_change()\n",
    "growth=growth+1\n",
    "growth.fillna(0)\n",
    "d=5\n",
    "for i in range(0,len(growth)):\n",
    "    l=growth[i]\n",
    "    if l<d:\n",
    "        d=l\n",
    "presentvalue=[]\n",
    "futurefreecashflow=[]\n",
    "for i in range(0,4):\n",
    "    if i==0:\n",
    "        futurefreecashflow.append(cash_s['FreeCashFlow'][-1]*d)\n",
    "    else:\n",
    "        futurefreecashflow.append(futurefreecashflow[i-1]*d)\n",
    "v0=futurefreecashflow[-1]*(1+g_rate)/(req_rate-g_rate)\n",
    "for i in range (0,5):\n",
    "    if i<4:\n",
    "        presentvalue.append(futurefreecashflow[i]/((1+wacc)**(i+1)))\n",
    "    else:\n",
    "        presentvalue.append(v0/((1+wacc)**4))\n",
    "s=0\n",
    "for i in range(0,len(presentvalue)):\n",
    "    s=s+presentvalue[i]\n",
    "fairvalue=s/balance_s['ShareIssued'][-1]\n",
    "\n",
    "\n"
   ]
  },
  {
   "cell_type": "markdown",
   "id": "3af9cd61",
   "metadata": {},
   "source": [
    "Piotroski F Score Calculation"
   ]
  },
  {
   "cell_type": "code",
   "execution_count": 6,
   "id": "1f52afdc",
   "metadata": {},
   "outputs": [],
   "source": [
    "#Piotroski F Score Calculation\n",
    "#profitability aspect\n",
    "Pio=0\n",
    "returnonAssetscalc=income_statement['netIncome']/balance_statement['totalAssets']\n",
    "if returnonAssetscalc[0]>0:\n",
    "    Pio=Pio+1\n",
    "if cash_flowstatement['totalCashFromOperatingActivities'][0]>0:\n",
    "    Pio=Pio=Pio+1\n",
    "if returnonAssetscalc[0]>returnonAssetscalc[1]:\n",
    "    Pio=Pio+1\n",
    "accrual=cash_flowstatement['totalCashFromOperatingActivities']/balance_statement['totalAssets']\n",
    "if accrual[0]>returnonAssetscalc[0]:\n",
    "    Pio=Pio+1\n",
    "#leverage aspect\n",
    "leverage=balance_statement['longTermDebt']/balance_statement['totalAssets']\n",
    "if leverage[0]<leverage[1]:\n",
    "    Pio=Pio+1\n",
    "currentratiocalc=balance_statement['totalCurrentAssets']/balance_statement['totalCurrentLiabilities']\n",
    "if currentratiocalc[0]>currentratiocalc[1]:\n",
    "    Pio=Pio+1\n",
    "if balance_s['ShareIssued'][-1]<balance_s['ShareIssued'][-2]:\n",
    "    Pio=Pio+1\n",
    "#operating efficiency\n",
    "grossmargin=income_s['GrossProfit']/income_s['TotalRevenue']\n",
    "if grossmargin[-2]>grossmargin[-3]:\n",
    "    Pio=Pio+1\n",
    "assetturn=income_statement['totalRevenue']/balance_statement['totalAssets']\n",
    "if assetturn[0]>assetturn[1]:\n",
    "    Pio=Pio+1"
   ]
  },
  {
   "cell_type": "markdown",
   "id": "161df03d",
   "metadata": {},
   "source": [
    "Output"
   ]
  },
  {
   "cell_type": "code",
   "execution_count": 7,
   "id": "47081fdf",
   "metadata": {},
   "outputs": [
    {
     "name": "stdout",
     "output_type": "stream",
     "text": [
      "\u001b[1m Liquidity Ratios \u001b[0m\n",
      "Current Ratio = 0.865000 - Poor\n",
      "Quick Ratio = 1.022115 - Good\n",
      "Cash Ratio = 0.278449 - Poor\n",
      "Days Sales Outstanding (DSO) = 24.749498 - Good\n",
      "\u001b[1m Profitability Ratios \u001b[0m\n",
      "Return on Equity (in percentage) = 1.628160 - Good\n",
      "Return on Equity (in percentage) = 0.222040 - Excellent\n",
      "Earnings Per Share= 6.050000\n",
      "Forward= 6.470000\n",
      "Gross Profit Margin (in percentage) = 43.313998 - Good\n",
      "Net Profit Margin (in percentage) = 39.437274 - Excellent\n",
      "\u001b[1m Solvency Ratios \u001b[0m\n",
      "Debt-Equity = 1.976843 - Good\n",
      "Debt-Asset= 0.355323 - Good\n",
      "Financial Leverage = 5.563512 - Poor\n",
      "\u001b[1m Piotroski Score of the stock is 7 \u001b[0m\n",
      "\u001b[1m Fair Share Value Calculated using DCF is 128.719383 \u001b[0m\n"
     ]
    }
   ],
   "source": [
    "print('\\033[1m Liquidity Ratios \\033[0m')\n",
    "#Current Ratio\n",
    "if current_ratio[0]<1:\n",
    "    s='Poor'\n",
    "if current_ratio[0]>1 and current_ratio[0]<1.5:\n",
    "    s='Satisfactory'\n",
    "if current_ratio[0]>=1.5:\n",
    "    s='Good'\n",
    "print('Current Ratio = %f - %s' %(current_ratio[0],s))\n",
    "#Quick Ratio\n",
    "if quick_ratio<1:\n",
    "    s='Poor'\n",
    "if quick_ratio>=1:\n",
    "    s='Good'\n",
    "print('Quick Ratio = %f - %s' %(quick_ratio,s))\n",
    "#Cash Ratio\n",
    "if cash_ratio[-1]<0.5:\n",
    "    s='Poor'\n",
    "if cash_ratio[-1]>=1:\n",
    "    s='Good'\n",
    "if cash_ratio[-1]>0.5 and cash_ratio[-1]<1:\n",
    "    s='Satisfactory'\n",
    "print('Cash Ratio = %f - %s' %(cash_ratio[-1],s))\n",
    "#dayssalesoutstanding\n",
    "if dayssales_outstanding[-1]>45:\n",
    "    s='Poor'\n",
    "if dayssales_outstanding[-1]<=45:\n",
    "    s='Good'\n",
    "print('Days Sales Outstanding (DSO) = %f - %s' %(dayssales_outstanding[-1],s))\n",
    "\n",
    "print('\\033[1m Profitability Ratios \\033[0m')\n",
    "#ROE\n",
    "if returnonequity[0]<.10:\n",
    "    s='Poor'\n",
    "if returnonequity[0]>0.1 and returnonequity[0]<0.15:\n",
    "    s='Satisfactory'\n",
    "if returnonequity[0]>=0.15:\n",
    "    s='Good'\n",
    "print('Return on Equity (in percentage) = %f - %s' %(returnonequity,s))\n",
    "#ROA\n",
    "if returnonassets[0]<.05:\n",
    "    s='Poor'\n",
    "if returnonassets[0]>0.05 and returnonassets[0]<0.20:\n",
    "    s='Good'\n",
    "if returnonassets[0]>=0.15:\n",
    "    s='Excellent'\n",
    "print('Return on Equity (in percentage) = %f - %s' %(returnonassets,s))\n",
    "#EPS\n",
    "print('Earnings Per Share= %f' %(eps))\n",
    "#forwardEPS\n",
    "print('Forward= %f' %(forwardeps))\n",
    "#grossprofitmargin\n",
    "if gross_profit_margin[0]<0.2:\n",
    "    s='Poor'\n",
    "if gross_profit_margin[0]>=0.2 and gross_profit_margin[0]<0.5:\n",
    "    s='Good'\n",
    "if gross_profit_margin[0]>0.5:\n",
    "    s='Excellent'\n",
    "gross_profit_margin1=100*gross_profit_margin[0]\n",
    "print('Gross Profit Margin (in percentage) = %f - %s' %(gross_profit_margin1,s))\n",
    "#netprofitmargin\n",
    "if net_profit[0]<0.05:\n",
    "    s='Poor'\n",
    "if net_profit[0]>=0.05 and net_profit[0]<0.15:\n",
    "    s='Good'\n",
    "if net_profit[0]>0.15:\n",
    "    s='Excellent'\n",
    "net_profit1=100*net_profit[0]\n",
    "print('Net Profit Margin (in percentage) = %f - %s' %(net_profit1,s))\n",
    "print('\\033[1m Solvency Ratios \\033[0m')\n",
    "#Debt-Equity\n",
    "if debt_equity[-1]<2.1:\n",
    "    s='Good'\n",
    "if debt_equity[-1]>=2.1:\n",
    "    s='Poor'\n",
    "print('Debt-Equity = %f - %s' %(debt_equity[-1],s))\n",
    "#debt-asset\n",
    "if debt_asset[-1]<2.1:\n",
    "    s='Good'\n",
    "if debt_asset[-1]>=2.1:\n",
    "    s='Poor'\n",
    "print('Debt-Asset= %f - %s' %(debt_asset[-1],s))\n",
    "#financial leverage\n",
    "if financial_leverage[-1]<=1:\n",
    "    s='Good'\n",
    "if financial_leverage[-1]>1 and financial_leverage[-1]<=2:\n",
    "    s='Satisfactory'\n",
    "if financial_leverage[-1]>2:\n",
    "    s='Poor'\n",
    "print('Financial Leverage = %f - %s' %(financial_leverage[-1],s))\n",
    "\n",
    "print('\\033[1m Piotroski Score of the stock is %d \\033[0m' %(Pio))\n",
    "\n",
    "print('\\033[1m Fair Share Value Calculated using DCF is %f \\033[0m'%(fairvalue))\n"
   ]
  },
  {
   "cell_type": "code",
   "execution_count": null,
   "id": "f59c1422",
   "metadata": {},
   "outputs": [],
   "source": []
  }
 ],
 "metadata": {
  "kernelspec": {
   "display_name": "Python 3",
   "language": "python",
   "name": "python3"
  },
  "language_info": {
   "codemirror_mode": {
    "name": "ipython",
    "version": 3
   },
   "file_extension": ".py",
   "mimetype": "text/x-python",
   "name": "python",
   "nbconvert_exporter": "python",
   "pygments_lexer": "ipython3",
   "version": "3.8.8"
  }
 },
 "nbformat": 4,
 "nbformat_minor": 5
}
